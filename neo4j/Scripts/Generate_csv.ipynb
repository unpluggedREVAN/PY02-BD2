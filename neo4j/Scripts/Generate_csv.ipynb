{
  "nbformat": 4,
  "nbformat_minor": 0,
  "metadata": {
    "colab": {
      "provenance": []
    },
    "kernelspec": {
      "name": "python3",
      "display_name": "Python 3"
    },
    "language_info": {
      "name": "python"
    }
  },
  "cells": [
    {
      "cell_type": "code",
      "execution_count": null,
      "metadata": {
        "colab": {
          "base_uri": "https://localhost:8080/",
          "height": 627
        },
        "id": "hgGmeQg8RQaG",
        "outputId": "3a26b60d-1da8-4e9b-c3ea-95e3a27782a0",
        "collapsed": true
      },
      "outputs": [
        {
          "output_type": "stream",
          "name": "stdout",
          "text": [
            "Collecting faker\n",
            "  Downloading faker-37.4.0-py3-none-any.whl.metadata (15 kB)\n",
            "Requirement already satisfied: tzdata in /usr/local/lib/python3.11/dist-packages (from faker) (2025.2)\n",
            "Downloading faker-37.4.0-py3-none-any.whl (1.9 MB)\n",
            "\u001b[?25l   \u001b[90m━━━━━━━━━━━━━━━━━━━━━━━━━━━━━━━━━━━━━━━━\u001b[0m \u001b[32m0.0/1.9 MB\u001b[0m \u001b[31m?\u001b[0m eta \u001b[36m-:--:--\u001b[0m\r\u001b[2K   \u001b[91m━━━━━\u001b[0m\u001b[90m╺\u001b[0m\u001b[90m━━━━━━━━━━━━━━━━━━━━━━━━━━━━━━━━━━\u001b[0m \u001b[32m0.2/1.9 MB\u001b[0m \u001b[31m7.8 MB/s\u001b[0m eta \u001b[36m0:00:01\u001b[0m\r\u001b[2K   \u001b[91m━━━━━━━━━━━━━━━━━━━━━━━━━━━━━━━━━━━━━━\u001b[0m\u001b[91m╸\u001b[0m\u001b[90m━\u001b[0m \u001b[32m1.9/1.9 MB\u001b[0m \u001b[31m28.3 MB/s\u001b[0m eta \u001b[36m0:00:01\u001b[0m\r\u001b[2K   \u001b[90m━━━━━━━━━━━━━━━━━━━━━━━━━━━━━━━━━━━━━━━━\u001b[0m \u001b[32m1.9/1.9 MB\u001b[0m \u001b[31m21.7 MB/s\u001b[0m eta \u001b[36m0:00:00\u001b[0m\n",
            "\u001b[?25hInstalling collected packages: faker\n",
            "Successfully installed faker-37.4.0\n",
            "Requirement already satisfied: faker in /usr/local/lib/python3.11/dist-packages (37.4.0)\n",
            "Requirement already satisfied: pandas in /usr/local/lib/python3.11/dist-packages (2.2.2)\n",
            "Requirement already satisfied: tzdata in /usr/local/lib/python3.11/dist-packages (from faker) (2025.2)\n",
            "Requirement already satisfied: numpy>=1.23.2 in /usr/local/lib/python3.11/dist-packages (from pandas) (2.0.2)\n",
            "Requirement already satisfied: python-dateutil>=2.8.2 in /usr/local/lib/python3.11/dist-packages (from pandas) (2.9.0.post0)\n",
            "Requirement already satisfied: pytz>=2020.1 in /usr/local/lib/python3.11/dist-packages (from pandas) (2025.2)\n",
            "Requirement already satisfied: six>=1.5 in /usr/local/lib/python3.11/dist-packages (from python-dateutil>=2.8.2->pandas) (1.17.0)\n"
          ]
        },
        {
          "output_type": "error",
          "ename": "ModuleNotFoundError",
          "evalue": "No module named 'ace_tools'",
          "traceback": [
            "\u001b[0;31m---------------------------------------------------------------------------\u001b[0m",
            "\u001b[0;31mModuleNotFoundError\u001b[0m                       Traceback (most recent call last)",
            "\u001b[0;32m/tmp/ipython-input-1-2687882217.py\u001b[0m in \u001b[0;36m<cell line: 0>\u001b[0;34m()\u001b[0m\n\u001b[1;32m    101\u001b[0m \u001b[0;34m\u001b[0m\u001b[0m\n\u001b[1;32m    102\u001b[0m \u001b[0;31m# Mostrar primeros registros para verificar\u001b[0m\u001b[0;34m\u001b[0m\u001b[0;34m\u001b[0m\u001b[0m\n\u001b[0;32m--> 103\u001b[0;31m \u001b[0;32mimport\u001b[0m \u001b[0mace_tools\u001b[0m \u001b[0;32mas\u001b[0m \u001b[0mtools\u001b[0m\u001b[0;34m;\u001b[0m \u001b[0mtools\u001b[0m\u001b[0;34m.\u001b[0m\u001b[0mdisplay_dataframe_to_user\u001b[0m\u001b[0;34m(\u001b[0m\u001b[0;34m\"Clientes\"\u001b[0m\u001b[0;34m,\u001b[0m \u001b[0mclientes_df\u001b[0m\u001b[0;34m.\u001b[0m\u001b[0mhead\u001b[0m\u001b[0;34m(\u001b[0m\u001b[0;34m)\u001b[0m\u001b[0;34m)\u001b[0m\u001b[0;34m\u001b[0m\u001b[0;34m\u001b[0m\u001b[0m\n\u001b[0m\u001b[1;32m    104\u001b[0m \u001b[0mtools\u001b[0m\u001b[0;34m.\u001b[0m\u001b[0mdisplay_dataframe_to_user\u001b[0m\u001b[0;34m(\u001b[0m\u001b[0;34m\"Restaurantes\"\u001b[0m\u001b[0;34m,\u001b[0m \u001b[0mrestaurantes_df\u001b[0m\u001b[0;34m.\u001b[0m\u001b[0mhead\u001b[0m\u001b[0;34m(\u001b[0m\u001b[0;34m)\u001b[0m\u001b[0;34m)\u001b[0m\u001b[0;34m\u001b[0m\u001b[0;34m\u001b[0m\u001b[0m\n\u001b[1;32m    105\u001b[0m \u001b[0;34m\u001b[0m\u001b[0m\n",
            "\u001b[0;31mModuleNotFoundError\u001b[0m: No module named 'ace_tools'",
            "",
            "\u001b[0;31m---------------------------------------------------------------------------\u001b[0;32m\nNOTE: If your import is failing due to a missing package, you can\nmanually install dependencies using either !pip or !apt.\n\nTo view examples of installing some common dependencies, click the\n\"Open Examples\" button below.\n\u001b[0;31m---------------------------------------------------------------------------\u001b[0m\n"
          ],
          "errorDetails": {
            "actions": [
              {
                "action": "open_url",
                "actionText": "Open Examples",
                "url": "/notebooks/snippets/importing_libraries.ipynb"
              }
            ]
          }
        }
      ],
      "source": [
        "!pip install faker  # Instalar Faker en el entorno (si no está instalado)\n",
        "\n",
        "from faker import Faker\n",
        "import pandas as pd\n",
        "import random\n",
        "\n",
        "# Inicializar Faker con localización en español\n",
        "!pip install faker pandas\n",
        "fake = Faker('es_ES')\n",
        "fake.seed_instance(123)\n",
        "random.seed(123)\n",
        "\n",
        "# Definir listas auxiliares\n",
        "categorias_plato = [\"Entrada\", \"Plato fuerte\", \"Acompañamiento\", \"Postre\", \"Bebida\"]\n",
        "nombres_base_platos = [\"Ensalada\", \"Sopa\", \"Pizza\", \"Hamburguesa\", \"Pasta\",\n",
        "                       \"Tacos\", \"Sándwich\", \"Ceviche\", \"Pollo\", \"Carne\", \"Pescado\", \"Curry\"]\n",
        "adjetivos_plato = [\"Especial\", \"Casero\", \"Picante\", \"Dulce\", \"Salado\",\n",
        "                   \"Asado\", \"Frito\", \"Grillé\", \"Italiano\", \"Mexicano\", \"Oriental\"]\n",
        "\n",
        "# Generar datos de Clientes con coordenadas\n",
        "num_clientes = 80\n",
        "clientes_data = []\n",
        "for i in range(1, num_clientes + 1):\n",
        "    nombre = fake.name()\n",
        "    email = fake.email()\n",
        "    lat, lon = fake.latitude(), fake.longitude()\n",
        "    clientes_data.append({\n",
        "        \"cliente_id\": i,\n",
        "        \"nombre_completo\": nombre,\n",
        "        \"email\": email,\n",
        "        \"latitud\": lat,\n",
        "        \"longitud\": lon\n",
        "    })\n",
        "\n",
        "# Generar datos de Restaurantes con coordenadas\n",
        "num_restaurantes = 18\n",
        "restaurantes_data = []\n",
        "for i in range(1, num_restaurantes + 1):\n",
        "    opcion = random.choice([1, 2, 3])\n",
        "    if opcion == 1:\n",
        "        nombre_rest = \"Restaurante \" + fake.last_name()\n",
        "    elif opcion == 2:\n",
        "        nombre_rest = \"Casa \" + fake.first_name()\n",
        "    else:\n",
        "        nombre_rest = \"El Rincón de \" + fake.first_name()\n",
        "    ciudad = fake.city()\n",
        "    lat, lon = fake.latitude(), fake.longitude()\n",
        "    restaurantes_data.append({\n",
        "        \"restaurante_id\": i,\n",
        "        \"nombre_restaurante\": nombre_rest,\n",
        "        \"ciudad\": ciudad,\n",
        "        \"latitud\": lat,\n",
        "        \"longitud\": lon\n",
        "    })\n",
        "\n",
        "# Generar datos de Productos\n",
        "productos_data = []\n",
        "producto_id = 1\n",
        "for resto in restaurantes_data:\n",
        "    rest_id = resto[\"restaurante_id\"]\n",
        "    for _ in range(random.randint(5, 8)):\n",
        "        base = random.choice(nombres_base_platos)\n",
        "        adj = random.choice(adjetivos_plato)\n",
        "        nombre_plato = f\"{base} {adj}\"\n",
        "        categoria = random.choice(categorias_plato)\n",
        "        precio = round(random.uniform(5.0, 50.0), 2)\n",
        "        productos_data.append({\n",
        "            \"producto_id\": producto_id,\n",
        "            \"restaurante_id\": rest_id,\n",
        "            \"nombre_plato\": nombre_plato,\n",
        "            \"categoria\": categoria,\n",
        "            \"precio\": precio\n",
        "        })\n",
        "        producto_id += 1\n",
        "\n",
        "# Generar datos de Órdenes/Pedidos\n",
        "num_pedidos = 150\n",
        "ordenes_data = []\n",
        "for i in range(1, num_pedidos + 1):\n",
        "    cliente = random.choice(clientes_data)\n",
        "    producto = random.choice(productos_data)\n",
        "    rest_id = producto[\"restaurante_id\"]\n",
        "    ordenes_data.append({\n",
        "        \"pedido_id\": i,\n",
        "        \"cliente_id\": cliente[\"cliente_id\"],\n",
        "        \"restaurante_id\": rest_id,\n",
        "        \"producto_id\": producto[\"producto_id\"],\n",
        "        \"fecha\": fake.date_between(start_date=\"-1y\", end_date=\"today\")\n",
        "    })\n",
        "\n",
        "# Convertir a DataFrames y exportar a CSV\n",
        "clientes_df = pd.DataFrame(clientes_data)\n",
        "restaurantes_df = pd.DataFrame(restaurantes_data)\n",
        "productos_df = pd.DataFrame(productos_data)\n",
        "ordenes_df = pd.DataFrame(ordenes_data)\n",
        "\n",
        "clientes_df.to_csv(\"clientes.csv\", index=False)\n",
        "restaurantes_df.to_csv(\"restaurantes.csv\", index=False)\n",
        "productos_df.to_csv(\"productos.csv\", index=False)\n",
        "ordenes_df.to_csv(\"ordenes.csv\", index=False)\n",
        "\n",
        "# Mostrar primeros registros para verificar\n",
        "import ace_tools as tools; tools.display_dataframe_to_user(\"Clientes\", clientes_df.head())\n",
        "tools.display_dataframe_to_user(\"Restaurantes\", restaurantes_df.head())\n",
        "\n"
      ]
    },
    {
      "cell_type": "code",
      "source": [
        "!pip install osmnx networkx pandas\n",
        "\n",
        "import osmnx as ox\n",
        "\n",
        "# 1.1 Elige tu ciudad o área\n",
        "place = \"Cartago, Costa Rica\"\n",
        "# 1.2 Descarga el grafo vial para automóviles (\"drive\")\n",
        "G = ox.graph_from_place(place, network_type=\"drive\")\n",
        "\n",
        "# 1.4 Exporta a GraphML (o CSV) para Neo4j\n",
        "ox.save_graphml(G, \"calles.graphml\")\n",
        "# Alternativamente, extrae nodos y aristas a DataFrames:\n",
        "nodes, edges = ox.graph_to_gdfs(G, nodes=True, edges=True)\n",
        "nodes.to_csv(\"street_nodes.csv\", index=False)\n",
        "edges.to_csv(\"street_edges.csv\", index=False)\n"
      ],
      "metadata": {
        "colab": {
          "base_uri": "https://localhost:8080/"
        },
        "id": "VxfNtW4CAY3o",
        "outputId": "c3fd3ee9-e870-4e5f-f783-d57be9fe61e2"
      },
      "execution_count": null,
      "outputs": [
        {
          "output_type": "stream",
          "name": "stdout",
          "text": [
            "Requirement already satisfied: osmnx in /usr/local/lib/python3.11/dist-packages (2.0.4)\n",
            "Requirement already satisfied: networkx in /usr/local/lib/python3.11/dist-packages (3.5)\n",
            "Requirement already satisfied: pandas in /usr/local/lib/python3.11/dist-packages (2.2.2)\n",
            "Requirement already satisfied: geopandas>=1.0 in /usr/local/lib/python3.11/dist-packages (from osmnx) (1.0.1)\n",
            "Requirement already satisfied: numpy>=1.22 in /usr/local/lib/python3.11/dist-packages (from osmnx) (2.0.2)\n",
            "Requirement already satisfied: requests>=2.27 in /usr/local/lib/python3.11/dist-packages (from osmnx) (2.32.3)\n",
            "Requirement already satisfied: shapely>=2.0 in /usr/local/lib/python3.11/dist-packages (from osmnx) (2.1.1)\n",
            "Requirement already satisfied: python-dateutil>=2.8.2 in /usr/local/lib/python3.11/dist-packages (from pandas) (2.9.0.post0)\n",
            "Requirement already satisfied: pytz>=2020.1 in /usr/local/lib/python3.11/dist-packages (from pandas) (2025.2)\n",
            "Requirement already satisfied: tzdata>=2022.7 in /usr/local/lib/python3.11/dist-packages (from pandas) (2025.2)\n",
            "Requirement already satisfied: pyogrio>=0.7.2 in /usr/local/lib/python3.11/dist-packages (from geopandas>=1.0->osmnx) (0.11.0)\n",
            "Requirement already satisfied: packaging in /usr/local/lib/python3.11/dist-packages (from geopandas>=1.0->osmnx) (24.2)\n",
            "Requirement already satisfied: pyproj>=3.3.0 in /usr/local/lib/python3.11/dist-packages (from geopandas>=1.0->osmnx) (3.7.1)\n",
            "Requirement already satisfied: six>=1.5 in /usr/local/lib/python3.11/dist-packages (from python-dateutil>=2.8.2->pandas) (1.17.0)\n",
            "Requirement already satisfied: charset-normalizer<4,>=2 in /usr/local/lib/python3.11/dist-packages (from requests>=2.27->osmnx) (3.4.2)\n",
            "Requirement already satisfied: idna<4,>=2.5 in /usr/local/lib/python3.11/dist-packages (from requests>=2.27->osmnx) (3.10)\n",
            "Requirement already satisfied: urllib3<3,>=1.21.1 in /usr/local/lib/python3.11/dist-packages (from requests>=2.27->osmnx) (2.4.0)\n",
            "Requirement already satisfied: certifi>=2017.4.17 in /usr/local/lib/python3.11/dist-packages (from requests>=2.27->osmnx) (2025.6.15)\n"
          ]
        }
      ]
    }
  ]
}